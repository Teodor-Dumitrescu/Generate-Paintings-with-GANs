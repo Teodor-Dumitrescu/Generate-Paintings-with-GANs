version https://git-lfs.github.com/spec/v1
oid sha256:7b2f6042b03d56701f5b5d2a1e21d71e21ac5ae3430ad09e2506b0580abc1fea
size 221441948
